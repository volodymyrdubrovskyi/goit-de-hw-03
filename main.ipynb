{
 "cells": [
  {
   "cell_type": "markdown",
   "metadata": {},
   "source": [
    "# Домашнє завдання. Аналіз даних у PySpark"
   ]
  },
  {
   "cell_type": "code",
   "execution_count": 30,
   "metadata": {},
   "outputs": [],
   "source": [
    "from pyspark.sql import SparkSession\n",
    "from pyspark.sql.functions import col, sum, round"
   ]
  },
  {
   "cell_type": "markdown",
   "metadata": {},
   "source": [
    "### 1. Завантажте та прочитайте кожен CSV-файл як окремий DataFrame."
   ]
  },
  {
   "cell_type": "code",
   "execution_count": null,
   "metadata": {},
   "outputs": [],
   "source": [
    "spark = SparkSession.builder.appName(\"MyGoitSparkSandbox\").getOrCreate()\n",
    "\n",
    "products_df = spark.read.csv('products.csv', header=True)\n",
    "purchases_df = spark.read.csv('purchases.csv', header=True)\n",
    "users_df = spark.read.csv('users.csv', header=True)"
   ]
  },
  {
   "cell_type": "markdown",
   "metadata": {},
   "source": [
    "### 2. Очистіть дані, видаляючи будь-які рядки з пропущеними значеннями."
   ]
  },
  {
   "cell_type": "code",
   "execution_count": 11,
   "metadata": {},
   "outputs": [],
   "source": [
    "products_df = products_df.dropna()\n",
    "purchases_df = purchases_df.dropna()\n",
    "users_df = users_df.dropna()"
   ]
  },
  {
   "cell_type": "code",
   "execution_count": 24,
   "metadata": {},
   "outputs": [
    {
     "name": "stdout",
     "output_type": "stream",
     "text": [
      "products_df:\n",
      "['product_id', 'product_name', 'category', 'price']\n",
      "purchases_df:\n",
      "['purchase_id', 'user_id', 'product_id', 'date', 'quantity']\n",
      "users_df:\n",
      "['user_id', 'name', 'age', 'email']\n"
     ]
    }
   ],
   "source": [
    "print(f\"products_df:\\n{products_df.columns}\")\n",
    "print(f\"purchases_df:\\n{purchases_df.columns}\")\n",
    "print(f\"users_df:\\n{users_df.columns}\")"
   ]
  },
  {
   "cell_type": "markdown",
   "metadata": {},
   "source": [
    "### 3. Визначте загальну суму покупок за кожною категорією продуктів."
   ]
  },
  {
   "cell_type": "code",
   "execution_count": 36,
   "metadata": {},
   "outputs": [
    {
     "name": "stdout",
     "output_type": "stream",
     "text": [
      "+-----------+---------+\n",
      "|   category|total_sum|\n",
      "+-----------+---------+\n",
      "|       Home|   1523.5|\n",
      "|     Sports|   1802.5|\n",
      "|Electronics|   1174.8|\n",
      "|   Clothing|    790.3|\n",
      "|     Beauty|    459.9|\n",
      "+-----------+---------+\n",
      "\n"
     ]
    }
   ],
   "source": [
    "combined_df = purchases_df.join(products_df, on='product_id')\n",
    "# print(combined_df.show())\n",
    "combined_df = combined_df.withColumn('sum', col('quantity') * col('price'))\n",
    "result_df = combined_df.groupBy('category').agg(round(sum('sum'),2).alias('total_sum'))\n",
    "\n",
    "result_df.show()"
   ]
  },
  {
   "cell_type": "markdown",
   "metadata": {},
   "source": [
    "### 4. Визначте суму покупок за кожною категорією продуктів для вікової категорії від 18 до 25 включно."
   ]
  },
  {
   "cell_type": "code",
   "execution_count": 42,
   "metadata": {},
   "outputs": [
    {
     "name": "stdout",
     "output_type": "stream",
     "text": [
      "+-----------+---------+\n",
      "|   category|total_sum|\n",
      "+-----------+---------+\n",
      "|       Home|    361.1|\n",
      "|     Sports|    310.5|\n",
      "|Electronics|    249.6|\n",
      "|   Clothing|    245.0|\n",
      "|     Beauty|     41.4|\n",
      "+-----------+---------+\n",
      "\n"
     ]
    }
   ],
   "source": [
    "combined_df = purchases_df.join(products_df, on='product_id').join(users_df, on='user_id').filter((col('age') >= 18) & (col('age') <= 25))\n",
    "# print(combined_df.show())\n",
    "combined_df = combined_df.withColumn('sum', col('quantity') * col('price'))\n",
    "# print(combined_df.show())\n",
    "result_df = combined_df.groupBy('category').agg(round(sum('sum'),2).alias('total_sum'))\n",
    "\n",
    "result_df.show()"
   ]
  },
  {
   "cell_type": "markdown",
   "metadata": {},
   "source": [
    "### 5. Визначте частку покупок за кожною категорією товарів від сумарних витрат для вікової категорії від 18 до 25 років."
   ]
  },
  {
   "cell_type": "code",
   "execution_count": 50,
   "metadata": {},
   "outputs": [
    {
     "name": "stdout",
     "output_type": "stream",
     "text": [
      "+-----------+----------+\n",
      "|   category|percentage|\n",
      "+-----------+----------+\n",
      "|       Home|      29.9|\n",
      "|     Sports|      25.7|\n",
      "|Electronics|      20.7|\n",
      "|   Clothing|      20.3|\n",
      "|     Beauty|       3.4|\n",
      "+-----------+----------+\n",
      "\n"
     ]
    }
   ],
   "source": [
    "total_sum = result_df.agg(sum('total_sum')).collect()[0][0]\n",
    "# print(total_sum)\n",
    "result_df = result_df.withColumn('percentage', round(col('total_sum') * 100 / total_sum, 1)).select('category', 'percentage')\n",
    "result_df.show()"
   ]
  },
  {
   "cell_type": "markdown",
   "metadata": {},
   "source": [
    "### 6. Виберіть 3 категорії продуктів з найвищим відсотком витрат споживачами віком від 18 до 25 років."
   ]
  },
  {
   "cell_type": "code",
   "execution_count": 52,
   "metadata": {},
   "outputs": [
    {
     "name": "stdout",
     "output_type": "stream",
     "text": [
      "+-----------+----------+\n",
      "|   category|percentage|\n",
      "+-----------+----------+\n",
      "|       Home|      29.9|\n",
      "|     Sports|      25.7|\n",
      "|Electronics|      20.7|\n",
      "+-----------+----------+\n",
      "\n"
     ]
    }
   ],
   "source": [
    "top_categories_df = result_df.orderBy(col('percentage').desc()).limit(3)\n",
    "top_categories_df.show()\n"
   ]
  }
 ],
 "metadata": {
  "kernelspec": {
   "display_name": "Python 3",
   "language": "python",
   "name": "python3"
  },
  "language_info": {
   "codemirror_mode": {
    "name": "ipython",
    "version": 3
   },
   "file_extension": ".py",
   "mimetype": "text/x-python",
   "name": "python",
   "nbconvert_exporter": "python",
   "pygments_lexer": "ipython3",
   "version": "3.13.0"
  }
 },
 "nbformat": 4,
 "nbformat_minor": 2
}
